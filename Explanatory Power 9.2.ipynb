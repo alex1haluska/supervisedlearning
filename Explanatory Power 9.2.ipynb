{
 "cells": [
  {
   "cell_type": "code",
   "execution_count": null,
   "metadata": {},
   "outputs": [],
   "source": [
    "predicted = regr.predict(X).ravel()\n",
    "actual = data['Sales']\n",
    "\n",
    "clean_predict = pd.Series(mstats.winsorize(predicted, limits=[0.05, 0.05])) \n",
    "clean_actual = pd.Series(mstats.winsorize(actual, limits=[0.05, 0.05])) \n",
    "clean_actual = [math.sqrt(x) for x in clean_actual]\n",
    "\n",
    "clean_predict = [math.sqrt(x) for x in clean_predict]\n",
    "clean = (np.array(clean_actual) - np.array(clean_predict))\n",
    "\n",
    "plt.hist(clean)\n",
    "plt.title('Residual counts')\n",
    "plt.xlabel('Residual')\n",
    "plt.ylabel('Count')\n",
    "plt.show()\n"
   ]
  }
 ],
 "metadata": {
  "kernelspec": {
   "display_name": "Python 3",
   "language": "python",
   "name": "python3"
  },
  "language_info": {
   "codemirror_mode": {
    "name": "ipython",
    "version": 3
   },
   "file_extension": ".py",
   "mimetype": "text/x-python",
   "name": "python",
   "nbconvert_exporter": "python",
   "pygments_lexer": "ipython3",
   "version": "3.6.5"
  }
 },
 "nbformat": 4,
 "nbformat_minor": 2
}
